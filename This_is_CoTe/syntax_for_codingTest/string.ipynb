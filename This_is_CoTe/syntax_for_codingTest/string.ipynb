{
 "cells": [
  {
   "cell_type": "code",
   "execution_count": 1,
   "id": "e11f34a1",
   "metadata": {},
   "outputs": [
    {
     "name": "stdout",
     "output_type": "stream",
     "text": [
      "Found\n",
      "No apple\n"
     ]
    }
   ],
   "source": [
    "a = 'aiajakalajbananajadaianaoa'\n",
    "\n",
    "if 'banana' in a:\n",
    "    print('Found')\n",
    "\n",
    "if 'apple' not in a:\n",
    "    print('No apple')"
   ]
  },
  {
   "cell_type": "code",
   "execution_count": 3,
   "id": "9b25cd3c",
   "metadata": {},
   "outputs": [
    {
     "name": "stdout",
     "output_type": "stream",
     "text": [
      "Park 4\n",
      "Kim 7\n",
      "Son 2\n",
      "Yoon 3\n"
     ]
    }
   ],
   "source": [
    "a = ['Park', 'Kim', 'Son', 'Yoon']\n",
    "b = [4, 7, 2, 3]\n",
    "\n",
    "for name, num in zip(a, b):\n",
    "    result = name + ' ' + str(num)\n",
    "    print(result)"
   ]
  },
  {
   "cell_type": "code",
   "execution_count": 5,
   "id": "357cfcc8",
   "metadata": {},
   "outputs": [
    {
     "name": "stdout",
     "output_type": "stream",
     "text": [
      "data data data data data data data data data data \n"
     ]
    }
   ],
   "source": [
    "s = 'data '\n",
    "ss = s * 10\n",
    "print(ss)"
   ]
  },
  {
   "cell_type": "code",
   "execution_count": 7,
   "id": "2eef9619",
   "metadata": {},
   "outputs": [
    {
     "name": "stdout",
     "output_type": "stream",
     "text": [
      "F O L\n",
      "e O F\n"
     ]
    }
   ],
   "source": [
    "d = 'From Oh to Lee'\n",
    "print(d[0], d[5], d[11])\n",
    "print(d[-1], d[-9], d[-14])"
   ]
  },
  {
   "cell_type": "code",
   "execution_count": 14,
   "id": "0783e80d",
   "metadata": {},
   "outputs": [
    {
     "name": "stdout",
     "output_type": "stream",
     "text": [
      "ho\n",
      "Python is \n",
      "s easy\n",
      "hni \n",
      " eas\n",
      "ysae si noh\n",
      "ysae si nohtyP\n"
     ]
    }
   ],
   "source": [
    "s = 'Python is easy'\n",
    "print(s[3:5])\n",
    "print(s[:10])\n",
    "print(s[8:])\n",
    "print(s[3:11:2])\n",
    "\n",
    "print(s[-5:-1])\n",
    "print(s[-1:-12:-1])\n",
    "print(s[::-1])"
   ]
  },
  {
   "cell_type": "code",
   "execution_count": 17,
   "id": "2df55783",
   "metadata": {},
   "outputs": [
    {
     "name": "stdout",
     "output_type": "stream",
     "text": [
      "T h i s   i s   a   s e n t e n c e \n",
      "T h i s   i s   a   s e n t e n c e "
     ]
    }
   ],
   "source": [
    "s = 'This is a sentence'\n",
    "\n",
    "for i in s:\n",
    "    print(i, end=' ')\n",
    "print()\n",
    "\n",
    "for j in range(len(s)):\n",
    "    print(s[j], end=' ')"
   ]
  },
  {
   "cell_type": "code",
   "execution_count": 19,
   "id": "ca4ff25b",
   "metadata": {},
   "outputs": [
    {
     "name": "stdout",
     "output_type": "stream",
     "text": [
      ", z\n",
      "add substitute\n"
     ]
    }
   ],
   "source": [
    "s = 'amzpomasoimwel;km./,mas;dnnjasd'\n",
    "print(min(s), max(s))\n",
    "sl = ['add', 'substitute', 'multiply', 'divide']\n",
    "print(min(sl), max(sl))"
   ]
  },
  {
   "cell_type": "code",
   "execution_count": 20,
   "id": "b22de583",
   "metadata": {},
   "outputs": [
    {
     "name": "stdout",
     "output_type": "stream",
     "text": [
      "0\n",
      "-1\n"
     ]
    }
   ],
   "source": [
    "s = 'Good morning Good afternoon Good evening'\n",
    "\n",
    "print(s.find('Good'))\n",
    "print(s.find('Bad'))"
   ]
  },
  {
   "cell_type": "code",
   "execution_count": null,
   "id": "7be58756",
   "metadata": {},
   "outputs": [
    {
     "name": "stdout",
     "output_type": "stream",
     "text": [
      "10\n"
     ]
    }
   ],
   "source": [
    "a = 'aiajakalajbananajadaibananaoa'\n",
    "\n",
    "print(a.index('banana'))\n",
    "# print(a.index('apple'))   // 찾는 데이터 없으면 ValueError"
   ]
  },
  {
   "cell_type": "code",
   "execution_count": 23,
   "id": "0def9b59",
   "metadata": {},
   "outputs": [
    {
     "name": "stdout",
     "output_type": "stream",
     "text": [
      "2\n",
      "0\n"
     ]
    }
   ],
   "source": [
    "a = 'aiajakalajbananajadaibananaoa'\n",
    "\n",
    "print(a.count('banana'))\n",
    "print(a.count('apple'))"
   ]
  },
  {
   "cell_type": "code",
   "execution_count": 24,
   "id": "55dcba15",
   "metadata": {},
   "outputs": [
    {
     "name": "stdout",
     "output_type": "stream",
     "text": [
      "Hi, my name is Ronaldo\n"
     ]
    }
   ],
   "source": [
    "words = [\"Hi,\", \"my\", \"name\", \"is\", \"Ronaldo\"]\n",
    "\n",
    "sentence = \" \".join(words)\n",
    "print(sentence)"
   ]
  },
  {
   "cell_type": "code",
   "execution_count": 1,
   "id": "cf2bf41b",
   "metadata": {},
   "outputs": [
    {
     "name": "stdout",
     "output_type": "stream",
     "text": [
      "['1', ' 2', ' 4', ' 5', ' 7', ' 10']\n"
     ]
    }
   ],
   "source": [
    "nums = \"1, 2, 4, 5, 7, 10\"\n",
    "num_list = nums.split(',')\n",
    "print(num_list)"
   ]
  }
 ],
 "metadata": {
  "kernelspec": {
   "display_name": "Python 3",
   "language": "python",
   "name": "python3"
  },
  "language_info": {
   "codemirror_mode": {
    "name": "ipython",
    "version": 3
   },
   "file_extension": ".py",
   "mimetype": "text/x-python",
   "name": "python",
   "nbconvert_exporter": "python",
   "pygments_lexer": "ipython3",
   "version": "3.11.9"
  }
 },
 "nbformat": 4,
 "nbformat_minor": 5
}
