{
 "cells": [
  {
   "cell_type": "code",
   "execution_count": 1,
   "id": "a6079207",
   "metadata": {},
   "outputs": [
    {
     "name": "stdout",
     "output_type": "stream",
     "text": [
      "##G1 무방향 그래프##\n",
      "0 1 1 1 \n",
      "1 0 1 0 \n",
      "1 1 0 1 \n",
      "1 0 1 0 \n",
      "##G3 방향 그래프##\n",
      "0 1 1 0 \n",
      "0 0 0 0 \n",
      "0 0 0 0 \n",
      "1 0 1 0 \n"
     ]
    }
   ],
   "source": [
    "class Graph():\n",
    "    def __init__(self, size):\n",
    "        self.SIZE = size\n",
    "        self.graph = [[0 for _ in range(size)] for _ in range(size)]\n",
    "\n",
    "G1, G3 = None, None\n",
    "G1 = Graph(4)\n",
    "G1.graph[0][1] = 1; G1.graph[0][2] = 1; G1.graph[0][3] = 1\n",
    "G1.graph[1][0] = 1; G1.graph[1][2] = 1\n",
    "G1.graph[2][0] = 1; G1.graph[2][1] = 1; G1.graph[2][3] = 1\n",
    "G1.graph[3][0] = 1; G1.graph[3][2] = 1\n",
    "\n",
    "print('##G1 무방향 그래프##')\n",
    "for row in range(4):\n",
    "    for col in range(4):\n",
    "        print(G1.graph[row][col], end=' ')\n",
    "    print()\n",
    "\n",
    "G3 = Graph(4)\n",
    "G3.graph[0][1] = 1; G3.graph[0][2] = 1\n",
    "G3.graph[3][0] = 1; G3.graph[3][2] = 1\n",
    "\n",
    "print('##G3 방향 그래프##')\n",
    "for row in range(4):\n",
    "    for col in range(4):\n",
    "        print(G3.graph[row][col], end=' ')\n",
    "\n",
    "    print()"
   ]
  },
  {
   "cell_type": "code",
   "execution_count": 4,
   "id": "6d0ea052",
   "metadata": {},
   "outputs": [
    {
     "name": "stdout",
     "output_type": "stream",
     "text": [
      "#########################무방향 그래프###############################\n",
      " \t호날두 메시 박관호 노무현 이명박 문재인 \n",
      "호날두\t0\t1\t1\t0\t0\t0\t\n",
      "메시\t1\t0\t0\t1\t0\t0\t\n",
      "박관호\t1\t0\t0\t1\t0\t0\t\n",
      "노무현\t0\t1\t1\t0\t1\t1\t\n",
      "이명박\t0\t0\t0\t1\t0\t0\t\n",
      "문재인\t0\t0\t0\t1\t1\t0\t\n",
      "\n"
     ]
    }
   ],
   "source": [
    "class Graph():\n",
    "    def __init__(self, size):\n",
    "        self.SIZE = size\n",
    "        self.graph = [[0 for _ in range(size)] for _ in range(size)]\n",
    "\n",
    "def printGraph(g):\n",
    "    print(' ', end='\\t')\n",
    "    for i in range(g.SIZE):\n",
    "        print(nameArr[i], end=' ')\n",
    "    print()\n",
    "    for row in range(g.SIZE):\n",
    "        print(nameArr[row], end='\\t')\n",
    "        for col in range(g.SIZE):\n",
    "            print(g.graph[row][col], end='\\t')\n",
    "        print()\n",
    "    print()\n",
    "\n",
    "G1 = None\n",
    "nameArr = ['호날두', '메시', '박관호', '노무현', '이명박', '문재인']\n",
    "호날두, 메시, 박관호, 노무현, 이명박, 문재인 = 0, 1, 2, 3, 4, 5\n",
    "\n",
    "gSize = 6\n",
    "G1 = Graph(gSize)\n",
    "G1.graph[호날두][메시] = 1; G1.graph[호날두][박관호] = 1\n",
    "G1.graph[메시][호날두] = 1; G1.graph[메시][노무현] = 1\n",
    "G1.graph[박관호][호날두] = 1; G1.graph[박관호][노무현] = 1\n",
    "G1.graph[노무현][메시] = 1; G1.graph[노무현][박관호] = 1; G1.graph[노무현][이명박] = 1; G1.graph[노무현][문재인] = 1\n",
    "G1.graph[이명박][노무현] = 1; G1.graph[이명박][문재인]\n",
    "G1.graph[문재인][노무현] = 1; G1.graph[문재인][이명박] = 1\n",
    "\n",
    "print('#########################무방향 그래프###############################')\n",
    "printGraph(G1)"
   ]
  }
 ],
 "metadata": {
  "kernelspec": {
   "display_name": "Python 3",
   "language": "python",
   "name": "python3"
  },
  "language_info": {
   "codemirror_mode": {
    "name": "ipython",
    "version": 3
   },
   "file_extension": ".py",
   "mimetype": "text/x-python",
   "name": "python",
   "nbconvert_exporter": "python",
   "pygments_lexer": "ipython3",
   "version": "3.11.9"
  }
 },
 "nbformat": 4,
 "nbformat_minor": 5
}
