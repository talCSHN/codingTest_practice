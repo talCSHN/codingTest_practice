{
 "cells": [
  {
   "cell_type": "code",
   "execution_count": 4,
   "id": "1ea6560b",
   "metadata": {},
   "outputs": [
    {
     "name": "stdout",
     "output_type": "stream",
     "text": [
      "2585594078256\n",
      "2585594079312\n",
      "2585594078064\n"
     ]
    }
   ],
   "source": [
    "katok = ['호날두', '메시', '박관호']\n",
    "print(id(katok[0]))\n",
    "print(id(katok[1]))\n",
    "print(id(katok[2]))"
   ]
  },
  {
   "cell_type": "code",
   "execution_count": 5,
   "id": "b5e95371",
   "metadata": {},
   "outputs": [
    {
     "name": "stdout",
     "output_type": "stream",
     "text": [
      "['호날두', '메시', '박관호', None]\n"
     ]
    }
   ],
   "source": [
    "katok.append(None)\n",
    "print(katok)"
   ]
  },
  {
   "cell_type": "code",
   "execution_count": 6,
   "id": "412cd0f0",
   "metadata": {},
   "outputs": [
    {
     "name": "stdout",
     "output_type": "stream",
     "text": [
      "['호날두', '메시', '박관호', '음바페']\n"
     ]
    }
   ],
   "source": [
    "arrLen = len(katok)\n",
    "katok[arrLen-1] = '음바페'\n",
    "print(katok)"
   ]
  },
  {
   "cell_type": "code",
   "execution_count": 7,
   "id": "edfc5fcf",
   "metadata": {},
   "outputs": [
    {
     "data": {
      "text/plain": [
       "['호날두', '메시', '박관호', '음바페', '벨링엄', '홀란드']"
      ]
     },
     "execution_count": 7,
     "metadata": {},
     "output_type": "execute_result"
    }
   ],
   "source": [
    "def addData(friend):\n",
    "    katok.append(None)\n",
    "    arrLen = len(katok)\n",
    "    katok[arrLen-1] = friend\n",
    "\n",
    "addData('벨링엄')\n",
    "addData('홀란드')\n",
    "\n",
    "katok"
   ]
  },
  {
   "cell_type": "code",
   "execution_count": 20,
   "id": "d8404dde",
   "metadata": {},
   "outputs": [],
   "source": [
    "katok = ['호날두', '메시', '박관호', '음바페', '벨링엄', '홀란드']"
   ]
  },
  {
   "cell_type": "code",
   "execution_count": 21,
   "id": "b0422607",
   "metadata": {},
   "outputs": [
    {
     "name": "stdout",
     "output_type": "stream",
     "text": [
      "7\n",
      "['호날두', '메시', '박관호', '존시나', '음바페', '벨링엄', '홀란드']\n"
     ]
    }
   ],
   "source": [
    "katok.append(None)\n",
    "arrLen = len(katok)\n",
    "print(arrLen)\n",
    "mid = arrLen // 2\n",
    "\n",
    "for current in range(arrLen - 1, mid, -1):\n",
    "    katok[current] = katok[current - 1]\n",
    "    katok[current - 1] = None\n",
    "\n",
    "katok[mid] = '존시나'\n",
    "\n",
    "print(katok)"
   ]
  },
  {
   "cell_type": "code",
   "execution_count": 1,
   "id": "a041f9b2",
   "metadata": {},
   "outputs": [
    {
     "name": "stdout",
     "output_type": "stream",
     "text": [
      "['호날두', '메시', '박관호', '음바페', '벨링엄', '홀란드']\n"
     ]
    }
   ],
   "source": [
    "katok = ['호날두', '메시', '박관호', '음바페', '벨링엄', '홀란드']\n",
    "print(katok)"
   ]
  },
  {
   "cell_type": "code",
   "execution_count": 29,
   "id": "cc5a3b52",
   "metadata": {},
   "outputs": [],
   "source": [
    "def insertData(position, friend):\n",
    "    if position < 0 or position > len(katok):\n",
    "        print('out of arr range')\n",
    "        return\n",
    "    \n",
    "    katok.append(None)\n",
    "    arrLen = len(katok)\n",
    "\n",
    "    for i in range(arrLen - 1, position - 1, -1):\n",
    "        katok[i] = katok[i - 1]\n",
    "        katok[i - 1] = None\n",
    "\n",
    "    katok[position - 1] = friend"
   ]
  },
  {
   "cell_type": "code",
   "execution_count": 30,
   "id": "be1a1934",
   "metadata": {},
   "outputs": [
    {
     "name": "stdout",
     "output_type": "stream",
     "text": [
      "['호날두', '존시나', '메시', '박관호', '음바페', '드웨인존슨', '벨링엄', '홀란드']\n"
     ]
    }
   ],
   "source": [
    "insertData(2, '존시나')\n",
    "insertData(6, '드웨인존슨')\n",
    "print(katok)"
   ]
  },
  {
   "cell_type": "code",
   "execution_count": 12,
   "id": "d5a87bc3",
   "metadata": {},
   "outputs": [
    {
     "name": "stdout",
     "output_type": "stream",
     "text": [
      "['호날두', '박관호', '음바페', '벨링엄', '홀란드']\n"
     ]
    }
   ],
   "source": [
    "katok = ['호날두', '메시', '박관호', '음바페', '벨링엄', '홀란드']\n",
    "position = int(input('지울 사람 번호'))\n",
    "katok[position - 1] = None\n",
    "\n",
    "for i in range(position, len(katok)):\n",
    "    katok[i - 1] = katok[i]\n",
    "    katok[i] = None\n",
    "\n",
    "del(katok[len(katok) - 1])\n",
    "\n",
    "print(katok)"
   ]
  },
  {
   "cell_type": "code",
   "execution_count": 5,
   "id": "0f751b59",
   "metadata": {},
   "outputs": [
    {
     "name": "stdout",
     "output_type": "stream",
     "text": [
      "초기 목록 : ['호날두', '메시', '박관호', '음바페', '벨링엄', '홀란드']\n",
      "삭제 결과 : ['호날두', '박관호', '음바페', '벨링엄', '홀란드']\n"
     ]
    }
   ],
   "source": [
    "katok = ['호날두', '메시', '박관호', '음바페', '벨링엄', '홀란드']\n",
    "print(f'초기 목록 : {katok}')\n",
    "\n",
    "def deleteData(position):\n",
    "    if position < 0 or position >= len(katok):\n",
    "        print('out of range')\n",
    "        return\n",
    "    \n",
    "    arrLen = len(katok)\n",
    "    katok[position - 1] = None\n",
    "\n",
    "    for i in range(position, arrLen):\n",
    "        katok[i - 1] = katok[i]\n",
    "        katok[i] = None\n",
    "    \n",
    "    del(katok[arrLen - 1])\n",
    "\n",
    "deleteData(2)\n",
    "print(f'삭제 결과 : {katok}')"
   ]
  },
  {
   "cell_type": "code",
   "execution_count": 21,
   "id": "26374012",
   "metadata": {},
   "outputs": [
    {
     "name": "stdout",
     "output_type": "stream",
     "text": [
      "초기 목록 : ['호날두', '메시', '박관호', '음바페', '벨링엄', '홀란드']\n",
      "중간점검 : ['호날두', '메시', '박관호', '음바페', '벨링엄', '홀란드']\n",
      "삭제 결과 : ['호날두', '메시']\n"
     ]
    }
   ],
   "source": [
    "katok = ['호날두', '메시', '박관호', '음바페', '벨링엄', '홀란드']\n",
    "print(f'초기 목록 : {katok}')\n",
    "\n",
    "def deleteData(position):\n",
    "    if position < 0 or position >= len(katok):\n",
    "        print('out of range')\n",
    "        return\n",
    "    \n",
    "    arrLen = len(katok)\n",
    "    # katok[position] = None\n",
    "    print(f'중간점검 : {katok}')\n",
    "\n",
    "    for i in range(position, arrLen):\n",
    "        del(katok[position])\n",
    "        arrLen -= 1\n",
    "\n",
    "deleteData(2)\n",
    "print(f'삭제 결과 : {katok}')"
   ]
  },
  {
   "cell_type": "code",
   "execution_count": 19,
   "id": "7a9405ff",
   "metadata": {},
   "outputs": [
    {
     "name": "stdout",
     "output_type": "stream",
     "text": [
      "초기 목록 : ['호날두', '메시', '박관호', '음바페', '벨링엄', '홀란드']\n",
      "out of range\n",
      "삭제 결과 : ['호날두', '메시', '박관호', '음바페', '벨링엄', '홀란드']\n"
     ]
    }
   ],
   "source": [
    "katok = ['호날두', '메시', '박관호', '음바페', '벨링엄', '홀란드']\n",
    "print(f'초기 목록 : {katok}')\n",
    "\n",
    "def deleteData(position):\n",
    "    if position < 0 or position >= len(katok):\n",
    "        print('out of range')\n",
    "        return\n",
    "    \n",
    "    arrLen = len(katok)\n",
    "    # katok[position] = None\n",
    "    print(f'중간점검 : {katok}')\n",
    "\n",
    "    for i in range(position, arrLen):\n",
    "        del(katok[position])\n",
    "        arrLen -= 1\n",
    "\n",
    "deleteData(6)\n",
    "print(f'삭제 결과 : {katok}')"
   ]
  },
  {
   "cell_type": "code",
   "execution_count": 23,
   "id": "0f1b8e3c",
   "metadata": {},
   "outputs": [
    {
     "name": "stdout",
     "output_type": "stream",
     "text": [
      "['노무현']\n",
      "['노무현', '김대중']\n",
      "['노무현', '김대중', '이명박']\n",
      "['노무현', '김대중', '이명박', '윤석열']\n",
      "['노무현', '김대중', '이명박', '박근혜', '윤석열', '이재명']\n",
      "['노무현', '김대중', '이명박', '박근혜', '윤석열']\n",
      "잘못된 번호 입력\n",
      "종료 전 결과 : ['노무현', '김대중', '이명박', '박근혜', '윤석열']\n"
     ]
    }
   ],
   "source": [
    "def addData(friend):\n",
    "    katok.append(None)\n",
    "    arrLen = len(katok)\n",
    "    katok[arrLen-1] = friend\n",
    "\n",
    "def insertData(position, friend):\n",
    "    if position < 0 or position > len(katok):\n",
    "        print('out of arr range')\n",
    "        return\n",
    "    \n",
    "    katok.append(None)\n",
    "    arrLen = len(katok)\n",
    "\n",
    "    for i in range(arrLen - 1, position - 1, -1):\n",
    "        katok[i] = katok[i - 1]\n",
    "        katok[i - 1] = None\n",
    "\n",
    "    katok[position - 1] = friend\n",
    "\n",
    "def deleteData(position):\n",
    "    if position < 0 or position > len(katok):\n",
    "        print('out of range')\n",
    "        return\n",
    "    \n",
    "    arrLen = len(katok)\n",
    "    katok[position - 1] = None\n",
    "\n",
    "    for i in range(position, arrLen):\n",
    "        katok[i - 1] = katok[i]\n",
    "        katok[i] = None\n",
    "    \n",
    "    del(katok[arrLen - 1])\n",
    "\n",
    "katok = []\n",
    "select = 0\n",
    "\n",
    "if __name__ == '__main__':\n",
    "    \n",
    "    while (select != 4):\n",
    "        select = int(input('번호 선택(1.추가 / 2.삽입 / 3.삭제 / 4.종료) : '))\n",
    "\n",
    "        if (select == 1):\n",
    "            data = input('추가할 데이터 : ')\n",
    "            addData(data)\n",
    "            print(katok)\n",
    "        elif (select == 2):\n",
    "            data = input('삽입할 데이터 : ')\n",
    "            position = int(input('삽입할 위치 : '))\n",
    "            insertData(position, data)\n",
    "        elif (select == 3):\n",
    "            position = int(input('삭제할 위치 : '))\n",
    "            deleteData(position)\n",
    "            print(katok)\n",
    "        elif (select == 4):\n",
    "            print(f'종료 전 결과 : {katok}')\n",
    "            break\n",
    "        else:\n",
    "            print('잘못된 번호 입력')\n",
    "            continue"
   ]
  },
  {
   "cell_type": "code",
   "execution_count": null,
   "id": "026ea913",
   "metadata": {},
   "outputs": [
    {
     "name": "stdout",
     "output_type": "stream",
     "text": [
      "[('이명박', 100000), ('호날두', 777), ('메시', 200), ('음바페', 100), ('홀란드', 50), ('노무현', 1)]\n",
      "[('이명박', 100000), ('호날두', 777), ('메시', 200), ('음바페', 100), ('홀란드', 50), ('노무현', 1), ('문재인', 0)]\n"
     ]
    }
   ],
   "source": [
    "# 카톡 친구 자동 삽입\n",
    "kakaoFriends = [('호날두', 777), ('메시', 200), ('음바페', 100), ('홀란드', 50), ('노무현', 1)]\n",
    "# len(kakaoFriends)\n",
    "# print(kakaoFriends[1])\n",
    "# tp = kakaoFriends[1]\n",
    "# print(tp[1])\n",
    "\n",
    "def insertFriend(friend, katokCount):\n",
    "    posit = -1\n",
    "    kakaoFriends.append(None)\n",
    "    kLen = len(kakaoFriends)\n",
    "\n",
    "    for i in range(kLen - 1):\n",
    "        friendTuple = kakaoFriends[i]\n",
    "        if katokCount >= friendTuple[1]:\n",
    "            posit = i\n",
    "            break\n",
    "    if posit == -1:\n",
    "        posit = len(kakaoFriends)\n",
    "        kakaoFriends[posit - 1] = (friend, katokCount)\n",
    "        return\n",
    "\n",
    "    if posit < 0 or posit > kLen:\n",
    "        print('out of range')\n",
    "        return\n",
    "    for j in range(kLen - 1, posit, -1):\n",
    "        kakaoFriends[j] = kakaoFriends[j - 1]\n",
    "        kakaoFriends[j - 1] = None\n",
    "    kakaoFriends[posit] = (friend, katokCount)\n",
    "\n",
    "if __name__ == '__main__':\n",
    "\n",
    "    while True:\n",
    "        data = input('추가할 친구 : ')\n",
    "        count = int(input('카톡 횟수 : '))\n",
    "        if count < 0:\n",
    "            print('카톡 횟수는 양수여야 함')\n",
    "            continue\n",
    "        insertFriend(data, count)\n",
    "        print(kakaoFriends)\n",
    "\n",
    "        controller = int(input('1 : 추가 등록 / 2 : 종료 >>>>>> '))\n",
    "        if controller == 1:\n",
    "            continue\n",
    "        elif controller == 2:\n",
    "            break\n",
    "        else:\n",
    "            print('잘못된 번호 입력')\n",
    "            continue"
   ]
  }
 ],
 "metadata": {
  "kernelspec": {
   "display_name": "Python 3",
   "language": "python",
   "name": "python3"
  },
  "language_info": {
   "codemirror_mode": {
    "name": "ipython",
    "version": 3
   },
   "file_extension": ".py",
   "mimetype": "text/x-python",
   "name": "python",
   "nbconvert_exporter": "python",
   "pygments_lexer": "ipython3",
   "version": "3.11.9"
  }
 },
 "nbformat": 4,
 "nbformat_minor": 5
}
