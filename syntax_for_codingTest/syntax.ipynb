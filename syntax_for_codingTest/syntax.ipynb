{
 "cells": [
  {
   "cell_type": "code",
   "execution_count": 1,
   "id": "483cc920",
   "metadata": {},
   "outputs": [
    {
     "name": "stdout",
     "output_type": "stream",
     "text": [
      "a 1\n",
      "b 2\n",
      "c 3\n",
      "d 4\n",
      "e 5\n"
     ]
    }
   ],
   "source": [
    "a = ['a', 'b', 'c', 'd', 'e']\n",
    "b= [1, 2, 3, 4, 5]\n",
    "\n",
    "for s, n in zip(a, b):\n",
    "    print(s, n)"
   ]
  },
  {
   "cell_type": "code",
   "execution_count": 2,
   "id": "7c9a4219",
   "metadata": {},
   "outputs": [
    {
     "name": "stdout",
     "output_type": "stream",
     "text": [
      "a 1\n",
      "b 2\n",
      "c 3\n"
     ]
    }
   ],
   "source": [
    "a = ['a', 'b', 'c', 'd', 'e']\n",
    "b= [1, 2, 3]\n",
    "\n",
    "for s, n in zip(a, b):\n",
    "    print(s, n)"
   ]
  },
  {
   "cell_type": "code",
   "execution_count": 13,
   "id": "e622dabf",
   "metadata": {},
   "outputs": [
    {
     "name": "stdout",
     "output_type": "stream",
     "text": [
      "1\n",
      "2\n",
      "3\n",
      "1\n",
      "2\n",
      "3\n"
     ]
    }
   ],
   "source": [
    "# del(iter)\n",
    "my_list = [1, 2, 3]\n",
    "for item in my_list:\n",
    "    print(item)\n",
    "\n",
    "my_iter = iter(my_list)\n",
    "\n",
    "print(next(my_iter))\n",
    "print(next(my_iter))\n",
    "print(next(my_iter))"
   ]
  },
  {
   "cell_type": "code",
   "execution_count": 14,
   "id": "381f5650",
   "metadata": {},
   "outputs": [
    {
     "data": {
      "text/plain": [
       "140707062838152"
      ]
     },
     "execution_count": 14,
     "metadata": {},
     "output_type": "execute_result"
    }
   ],
   "source": [
    "a = 3\n",
    "b = 4\n",
    "\n",
    "id(a)\n",
    "id(b)"
   ]
  },
  {
   "cell_type": "code",
   "execution_count": 17,
   "id": "85be7632",
   "metadata": {},
   "outputs": [
    {
     "name": "stdout",
     "output_type": "stream",
     "text": [
      "[1, 2, 3, 4, 5, 10]\n",
      "2746271015168\n",
      "2746271015168\n"
     ]
    }
   ],
   "source": [
    "a = [1, 2, 3, 4, 5]\n",
    "b = a\n",
    "\n",
    "b.append(10)\n",
    "print(a)\n",
    "print(id(a))\n",
    "print(id(b))"
   ]
  },
  {
   "cell_type": "code",
   "execution_count": 19,
   "id": "b1bdcf3e",
   "metadata": {},
   "outputs": [
    {
     "name": "stdout",
     "output_type": "stream",
     "text": [
      "2746271252928\n",
      "2746271088448\n",
      "[1, 2, 3, 4, 5]\n",
      "[1, 2, 3, 4]\n"
     ]
    }
   ],
   "source": [
    "c = [1, 2, 3, 4, 5]\n",
    "d = c[:]\n",
    "d.pop()\n",
    "print(id(c))\n",
    "print(id(d))\n",
    "print(c)\n",
    "print(d)"
   ]
  },
  {
   "cell_type": "code",
   "execution_count": 20,
   "id": "b99bba31",
   "metadata": {},
   "outputs": [
    {
     "name": "stdout",
     "output_type": "stream",
     "text": [
      "[[10, 20], 2, 3, 4, 5]\n",
      "[[10, 20], 2, 3, 4, 5]\n"
     ]
    }
   ],
   "source": [
    "c = [[10, 20, 30], 2, 3, 4, 5]\n",
    "d = c[:]\n",
    "d[0].pop()\n",
    "\n",
    "print(c)\n",
    "print(d)"
   ]
  },
  {
   "cell_type": "code",
   "execution_count": 21,
   "id": "300bfc39",
   "metadata": {},
   "outputs": [
    {
     "name": "stdout",
     "output_type": "stream",
     "text": [
      "[[10, 20, 30], 2, 3, 4, 5]\n",
      "[[10, 20], 2, 3, 4, 5]\n"
     ]
    }
   ],
   "source": [
    "import copy\n",
    "e = [[10, 20, 30], 2, 3, 4, 5]\n",
    "f = copy.deepcopy(e)\n",
    "f[0].pop()\n",
    "\n",
    "print(e)\n",
    "print(f)"
   ]
  },
  {
   "cell_type": "code",
   "execution_count": 22,
   "id": "e1fc426f",
   "metadata": {},
   "outputs": [
    {
     "name": "stdout",
     "output_type": "stream",
     "text": [
      "[[1, 2, 3], [4, 5, 6], [7, 8, 9]]\n"
     ]
    }
   ],
   "source": [
    "g = [[1, 2, 3], [4, 5, 6], [7, 8, 9]]\n",
    "h = [g[i][:] for i in range(len(g))]\n",
    "\n",
    "print(h)"
   ]
  },
  {
   "cell_type": "code",
   "execution_count": 26,
   "id": "ea962b9e",
   "metadata": {},
   "outputs": [
    {
     "name": "stdout",
     "output_type": "stream",
     "text": [
      "6\n",
      "3\n"
     ]
    }
   ],
   "source": [
    "a = 3\n",
    "def foo(a):\n",
    "    a = a + 3\n",
    "    print(a)\n",
    "    return a\n",
    "\n",
    "foo(a)\n",
    "print(a)"
   ]
  },
  {
   "cell_type": "code",
   "execution_count": 27,
   "id": "51549db3",
   "metadata": {},
   "outputs": [
    {
     "name": "stdout",
     "output_type": "stream",
     "text": [
      "[1, 2, 3, 4]\n",
      "[1, 2, 3, 4]\n"
     ]
    }
   ],
   "source": [
    "li = [1, 2, 3, 4, 5]\n",
    "def foo(l):\n",
    "    l.pop()\n",
    "    print(l)\n",
    "\n",
    "foo(li)\n",
    "print(li)"
   ]
  },
  {
   "cell_type": "code",
   "execution_count": 28,
   "id": "0946c669",
   "metadata": {},
   "outputs": [
    {
     "name": "stdout",
     "output_type": "stream",
     "text": [
      "(1, 4, 9)\n",
      "('t', 'b', [1, 2])\n",
      "(1, 2, 3, 'a')\n",
      "(0,)\n"
     ]
    }
   ],
   "source": [
    "a = tuple([1, 4, 9])\n",
    "b = ('t', 'b', [1, 2])\n",
    "c = 1, 2, 3, 'a'\n",
    "d = 0,\n",
    "\n",
    "print(a)\n",
    "print(b)\n",
    "print(c)\n",
    "print(d)"
   ]
  },
  {
   "cell_type": "code",
   "execution_count": 30,
   "id": "0d26849a",
   "metadata": {},
   "outputs": [
    {
     "name": "stdout",
     "output_type": "stream",
     "text": [
      "('Ronaldo', 'Messi', 'KwanHo', 'MooHyun')\n",
      "Roh\n",
      "80\n"
     ]
    }
   ],
   "source": [
    "team = 'Ronaldo', 'Messi', 'KwanHo', 'MooHyun'\n",
    "print(team)\n",
    "\n",
    "employee_info = [('Ronaldo', 41), ('Park', 31), ('Messi', 39), ('Roh', 80)]\n",
    "name, age = employee_info.pop()\n",
    "print(name)\n",
    "print(age)"
   ]
  },
  {
   "cell_type": "code",
   "execution_count": 31,
   "id": "7356d922",
   "metadata": {},
   "outputs": [
    {
     "name": "stdout",
     "output_type": "stream",
     "text": [
      "name:Ronaldo\n",
      "age:41\n",
      "others:['010-1111-2222', 'Soccer', 1]\n",
      "name:Park\n",
      "age:31\n",
      "others:['010-1111-2222', 'Soccer', 2]\n",
      "name:Messi\n",
      "age:39\n",
      "others:['010-1111-2222', 'Soccer', 3]\n",
      "name:Roh\n",
      "age:80\n",
      "others:['010-1111-2222', 'Soccer', 4]\n"
     ]
    }
   ],
   "source": [
    "employee_info1 = [('Ronaldo', 41, '010-1111-2222', 'Soccer', 1), ('Park', 31, '010-1111-2222', 'Soccer', 2), \n",
    "                 ('Messi', 39, '010-1111-2222', 'Soccer', 3), ('Roh', 80, '010-1111-2222', 'Soccer', 4)]\n",
    "for name, age, *_ in employee_info1:\n",
    "    print(f'name:{name}')\n",
    "    print(f'age:{age}')\n",
    "    print(f'others:{_}')"
   ]
  },
  {
   "cell_type": "code",
   "execution_count": 32,
   "id": "5e330c26",
   "metadata": {},
   "outputs": [
    {
     "name": "stdout",
     "output_type": "stream",
     "text": [
      "840\n"
     ]
    }
   ],
   "source": [
    "def get_mult_result(*li):\n",
    "    result = 1\n",
    "    for i in li:\n",
    "        result *= i\n",
    "    return result\n",
    "\n",
    "print(get_mult_result(3, 5, 7, 2, 4))"
   ]
  },
  {
   "cell_type": "code",
   "execution_count": 33,
   "id": "04c8f433",
   "metadata": {},
   "outputs": [
    {
     "name": "stdout",
     "output_type": "stream",
     "text": [
      "Good evening. Mr/Ms.park\n",
      "Good morning. Mr/Ms.kim\n",
      "Good afternoon. Mr/Ms.lee\n",
      "Hello\n"
     ]
    }
   ],
   "source": [
    "def greeting(**kwargs):\n",
    "    for time, name in kwargs.items():\n",
    "        if(time == 'morning') or (time == 'afternoon') or (time == 'evening'):\n",
    "            print(f'Good {time}. Mr/Ms.{name}')\n",
    "        else:\n",
    "            print('Hello')\n",
    "greeting(evening='park', morning='kim', afternoon='lee')\n",
    "greeting(new='kim')"
   ]
  },
  {
   "cell_type": "code",
   "execution_count": 34,
   "id": "3fcdd8ab",
   "metadata": {},
   "outputs": [
    {
     "name": "stdout",
     "output_type": "stream",
     "text": [
      "My friend Bob has 10 friends\n",
      "My friend Sally has 8 friends\n",
      "My friend Jessica has 39 friends\n",
      "My friend Mike has 21 friends\n",
      "My friend David has 2 friends\n"
     ]
    }
   ],
   "source": [
    "friends = [\"Bob\", \"Sally\", \"Jessica\", \"Mike\", \"David\"]\n",
    "friend_nums = [10, 8, 39, 21, 2]\n",
    "\n",
    "for f, n in zip(friends, friend_nums):\n",
    "    print(f'My friend {f} has {n} friends')"
   ]
  },
  {
   "cell_type": "code",
   "execution_count": 37,
   "id": "9d226f2c",
   "metadata": {},
   "outputs": [
    {
     "name": "stdout",
     "output_type": "stream",
     "text": [
      "[('A', 'M'), ('A', 'S'), ('A', 'J'), ('M', 'A'), ('M', 'S'), ('M', 'J'), ('S', 'A'), ('S', 'M'), ('S', 'J'), ('J', 'A'), ('J', 'M'), ('J', 'S')]\n"
     ]
    }
   ],
   "source": [
    "import itertools\n",
    "\n",
    "p = itertools.permutations('AMSJ', 2)\n",
    "p_list = list(p)\n",
    "print(p_list)"
   ]
  },
  {
   "cell_type": "code",
   "execution_count": 38,
   "id": "21b6d412",
   "metadata": {},
   "outputs": [
    {
     "name": "stdout",
     "output_type": "stream",
     "text": [
      "[(3, 7, 2), (3, 7, 1), (3, 7, 4), (3, 2, 1), (3, 2, 4), (3, 1, 4), (7, 2, 1), (7, 2, 4), (7, 1, 4), (2, 1, 4)]\n"
     ]
    }
   ],
   "source": [
    "import itertools\n",
    "c = itertools.combinations([3, 7, 2, 1, 4], 3)\n",
    "comb_list = list(c)\n",
    "print(comb_list)"
   ]
  },
  {
   "cell_type": "code",
   "execution_count": 39,
   "id": "24f12d0d",
   "metadata": {},
   "outputs": [
    {
     "name": "stdout",
     "output_type": "stream",
     "text": [
      "num_list:[(1, 2, 2), (1, 2, 2), (2, 1, 2), (2, 2, 1), (2, 1, 2), (2, 2, 1)]\n",
      "char_list:[('A', 'A', 'B'), ('A', 'A', 'B'), ('A', 'A', 'C'), ('A', 'A', 'C'), ('A', 'B', 'B'), ('A', 'B', 'C'), ('A', 'B', 'C'), ('A', 'B', 'C'), ('A', 'B', 'C'), ('A', 'C', 'C'), ('A', 'B', 'B'), ('A', 'B', 'C'), ('A', 'B', 'C'), ('A', 'B', 'C'), ('A', 'B', 'C'), ('A', 'C', 'C'), ('B', 'B', 'C'), ('B', 'B', 'C'), ('B', 'C', 'C'), ('B', 'C', 'C')]\n"
     ]
    }
   ],
   "source": [
    "import itertools\n",
    "\n",
    "nums = [1, 2, 2]\n",
    "chars = 'AABBCC'\n",
    "\n",
    "num_lists = list(itertools.permutations(nums, 3))\n",
    "char_lists = list(itertools.combinations(chars, 3))\n",
    "\n",
    "print(f'num_list:{num_lists}')\n",
    "print(f'char_list:{char_lists}')"
   ]
  },
  {
   "cell_type": "code",
   "execution_count": 40,
   "id": "8752ab14",
   "metadata": {},
   "outputs": [
    {
     "name": "stdout",
     "output_type": "stream",
     "text": [
      "3 4.0\n"
     ]
    }
   ],
   "source": [
    "import math\n",
    "\n",
    "n = 5\n",
    "\n",
    "def get_xy(n, x):\n",
    "    if x > n:\n",
    "        return n, 0\n",
    "    else:\n",
    "        return x, math.sqrt((n**2)-(x**2))\n",
    "\n",
    "_, y = get_xy(n, 3)\n",
    "print(_, y)"
   ]
  },
  {
   "cell_type": "code",
   "execution_count": 41,
   "id": "816e97a2",
   "metadata": {},
   "outputs": [
    {
     "name": "stdout",
     "output_type": "stream",
     "text": [
      "12\n",
      "93\n",
      "102\n",
      "1\n"
     ]
    }
   ],
   "source": [
    "info = [('a', 12), ('b', 93), ('c', 102), ('d', 1)]\n",
    "\n",
    "for _, password in info:\n",
    "    print(password)"
   ]
  },
  {
   "cell_type": "code",
   "execution_count": 47,
   "id": "2a9479e8",
   "metadata": {},
   "outputs": [
    {
     "name": "stdout",
     "output_type": "stream",
     "text": [
      "0 ~ 9 : 48~57\n",
      "0 ~ 9 : 65~90\n",
      "0 ~ 9 : 97~122\n",
      "MIP"
     ]
    }
   ],
   "source": [
    "print(f'0 ~ 9 : {ord(\"0\")}~{ord(\"9\")}')\n",
    "print(f'0 ~ 9 : {ord(\"A\")}~{ord(\"Z\")}')\n",
    "print(f'0 ~ 9 : {ord(\"a\")}~{ord(\"z\")}')\n",
    "\n",
    "word = 'MissIssiPpi'\n",
    "for s in word:\n",
    "    if (65 <= ord(s) <= 96):\n",
    "        print(s, end='')"
   ]
  },
  {
   "cell_type": "code",
   "execution_count": 48,
   "id": "ddb24278",
   "metadata": {},
   "outputs": [
    {
     "name": "stdout",
     "output_type": "stream",
     "text": [
      "A\n"
     ]
    }
   ],
   "source": [
    "print(chr(ord('A')))"
   ]
  },
  {
   "cell_type": "code",
   "execution_count": 50,
   "id": "736360d7",
   "metadata": {},
   "outputs": [
    {
     "name": "stdout",
     "output_type": "stream",
     "text": [
      "0 Ronaldo\n",
      "1 Messi\n",
      "2 KwanHo\n",
      "3 Roh\n",
      "4 MyunBak\n",
      "\n",
      "player 1 : Ronaldo\n",
      "player 2 : Messi\n",
      "player 3 : KwanHo\n",
      "player 4 : Roh\n",
      "player 5 : MyunBak\n"
     ]
    }
   ],
   "source": [
    "player_list = ['Ronaldo', 'Messi', 'KwanHo', 'Roh', 'MyunBak']\n",
    "\n",
    "for i, p in enumerate(player_list):\n",
    "    print(i, p)\n",
    "print()\n",
    "\n",
    "for j, player in enumerate(player_list, start=1):\n",
    "    print(f'player {j} : {player}')"
   ]
  },
  {
   "cell_type": "code",
   "execution_count": 51,
   "id": "8c8b817c",
   "metadata": {},
   "outputs": [
    {
     "name": "stdout",
     "output_type": "stream",
     "text": [
      "1 2 3 5 5 9 23 24 431 543 \n"
     ]
    }
   ],
   "source": [
    "n = [9, 2, 5, 3, 1, 23, 24, 5, 431, 543]\n",
    "n.sort()\n",
    "\n",
    "for i in n:\n",
    "    print(i, end=' ')\n",
    "print()"
   ]
  },
  {
   "cell_type": "code",
   "execution_count": 53,
   "id": "6e7c866f",
   "metadata": {},
   "outputs": [
    {
     "name": "stdout",
     "output_type": "stream",
     "text": [
      "1 5\n",
      "1 6\n",
      "1 3\n",
      "1 7\n",
      "2 5\n",
      "2 6\n",
      "2 3\n",
      "2 7\n",
      "3 5\n",
      "3 6\n",
      "3 3\n",
      "탈출\n",
      "4 5\n",
      "4 6\n",
      "4 3\n",
      "4 7\n"
     ]
    }
   ],
   "source": [
    "arr1 = [1,2,3,4]\n",
    "arr2 = [5,6,3,7]\n",
    "\n",
    "for i in arr1:\n",
    "    for j in arr2:\n",
    "        print(i, j)\n",
    "        if i == j:\n",
    "            print('탈출')\n",
    "            break"
   ]
  },
  {
   "cell_type": "code",
   "execution_count": 54,
   "id": "768f43c0",
   "metadata": {},
   "outputs": [
    {
     "name": "stdout",
     "output_type": "stream",
     "text": [
      "1 5\n",
      "1 6\n",
      "1 3\n",
      "1 7\n",
      "2 5\n",
      "2 6\n",
      "2 3\n",
      "2 7\n",
      "3 5\n",
      "3 6\n",
      "3 3\n",
      "탈출\n"
     ]
    }
   ],
   "source": [
    "arr1 = [1,2,3,4]\n",
    "arr2 = [5,6,3,7]\n",
    "\n",
    "for i in arr1:\n",
    "    for j in arr2:\n",
    "        print(i, j)\n",
    "        if i == j:\n",
    "            print('탈출')\n",
    "            break\n",
    "    else:\n",
    "        continue\n",
    "    break"
   ]
  },
  {
   "cell_type": "code",
   "execution_count": 61,
   "id": "0f54cf60",
   "metadata": {},
   "outputs": [
    {
     "name": "stdout",
     "output_type": "stream",
     "text": [
      "1\n",
      "2\n",
      "3\n",
      "4\n",
      "무조건 탈출\n"
     ]
    }
   ],
   "source": [
    "n = 0\n",
    "while (n != 4):\n",
    "    if n > 5:\n",
    "        print(\"무한 반복문 탈출\")\n",
    "        break\n",
    "    n += 1\n",
    "    print(n)\n",
    "else:\n",
    "    print(\"무조건 탈출\")"
   ]
  }
 ],
 "metadata": {
  "kernelspec": {
   "display_name": "Python 3",
   "language": "python",
   "name": "python3"
  },
  "language_info": {
   "codemirror_mode": {
    "name": "ipython",
    "version": 3
   },
   "file_extension": ".py",
   "mimetype": "text/x-python",
   "name": "python",
   "nbconvert_exporter": "python",
   "pygments_lexer": "ipython3",
   "version": "3.11.9"
  }
 },
 "nbformat": 4,
 "nbformat_minor": 5
}
