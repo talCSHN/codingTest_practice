{
 "cells": [
  {
   "cell_type": "code",
   "execution_count": null,
   "id": "aa02653c",
   "metadata": {},
   "outputs": [],
   "source": [
    "n = int(input())\n",
    "arr = list(map(int, input().split()))\n",
    "\n",
    "# Please write your code here.\n",
    "answer = []\n",
    "def divideEven(ary):\n",
    "    for i in ary:\n",
    "        if (i % 2 == 0):\n",
    "            i /= 2\n",
    "            answer.append(i)"
   ]
  },
  {
   "cell_type": "code",
   "execution_count": null,
   "id": "a71731b4",
   "metadata": {},
   "outputs": [
    {
     "name": "stdout",
     "output_type": "stream",
     "text": [
      "cba\n",
      "No\n"
     ]
    }
   ],
   "source": [
    "string = 'abc'\n",
    "new = string[::-1]\n",
    "\n",
    "if string == new:\n",
    "    print('Yes')\n",
    "else:\n",
    "    print('No')"
   ]
  },
  {
   "cell_type": "code",
   "execution_count": 7,
   "id": "3696ab0b",
   "metadata": {},
   "outputs": [
    {
     "name": "stdout",
     "output_type": "stream",
     "text": [
      "200 225\n",
      "200 225\n"
     ]
    }
   ],
   "source": [
    "a, b = map(int, input().split())\n",
    "\n",
    "# Please write your code here.\n",
    "if (a > b):\n",
    "    a += 25\n",
    "    b *= 2\n",
    "    print(a, b)\n",
    "elif (b > a):\n",
    "    a *= 2\n",
    "    b += 25\n",
    "    print(a, b)\n",
    "\n",
    "print(a, b)"
   ]
  },
  {
   "cell_type": "code",
   "execution_count": null,
   "id": "3bc6b365",
   "metadata": {},
   "outputs": [],
   "source": [
    "stack = []\n",
    "A = 'abcde'"
   ]
  },
  {
   "cell_type": "code",
   "execution_count": null,
   "id": "b136ff2a",
   "metadata": {},
   "outputs": [
    {
     "name": "stdout",
     "output_type": "stream",
     "text": [
      "1 2 3 4 \n",
      "5 6 7 8 \n",
      "9 1 2 3 \n",
      "4 5 6 7 \n"
     ]
    }
   ],
   "source": [
    "n = int(input())\n",
    "\n",
    "# Please write your code here.\n",
    "def makeSquareNum(m):\n",
    "    num = 0\n",
    "    for i in range(m):\n",
    "        for j in range(m):\n",
    "            print((num % 9) + 1  , end=' ')\n",
    "            num += 1\n",
    "        print()\n",
    "\n",
    "makeSquareNum(n)"
   ]
  },
  {
   "cell_type": "code",
   "execution_count": 26,
   "id": "7c2eed87",
   "metadata": {},
   "outputs": [
    {
     "name": "stdout",
     "output_type": "stream",
     "text": [
      "Yes\n"
     ]
    }
   ],
   "source": [
    "n1, n2 = map(int, input().split())\n",
    "a = list(map(int, input().split()))\n",
    "b = list(map(int, input().split()))\n",
    "\n",
    "# Please write your code here.\n",
    "def isSequence(n, m):\n",
    "    for i in range(len(n) - len(m) + 1):\n",
    "        if (m == n[i : i + len(m)]):\n",
    "            return True\n",
    "    return False\n",
    "\n",
    "if (isSequence(a, b)):\n",
    "    print('Yes')\n",
    "else:\n",
    "    print('No')"
   ]
  },
  {
   "cell_type": "code",
   "execution_count": null,
   "id": "5901da8d",
   "metadata": {},
   "outputs": [
    {
     "name": "stdout",
     "output_type": "stream",
     "text": [
      "No\n",
      "[(1, 1), (1, 2), (1, 3), (1, 4), (1, 5), (1, 6), (1, 7), (1, 8), (1, 9), (1, 10), (1, 11), (1, 12), (1, 13), (1, 14), (1, 15), (1, 16), (1, 17), (1, 18), (1, 19), (1, 20), (1, 21), (1, 22), (1, 23), (1, 24), (1, 25), (1, 26), (1, 27), (1, 28), (1, 29), (1, 30), (1, 31), (2, 1), (2, 2), (2, 3), (2, 4), (2, 5), (2, 6), (2, 7), (2, 8), (2, 9), (2, 10), (2, 11), (2, 12), (2, 13), (2, 14), (2, 15), (2, 16), (2, 17), (2, 18), (2, 19), (2, 20), (2, 21), (2, 22), (2, 23), (2, 24), (2, 25), (2, 26), (2, 27), (2, 28), (3, 1), (3, 2), (3, 3), (3, 4), (3, 5), (3, 6), (3, 7), (3, 8), (3, 9), (3, 10), (3, 11), (3, 12), (3, 13), (3, 14), (3, 15), (3, 16), (3, 17), (3, 18), (3, 19), (3, 20), (3, 21), (3, 22), (3, 23), (3, 24), (3, 25), (3, 26), (3, 27), (3, 28), (3, 29), (3, 30), (3, 31), (4, 1), (4, 2), (4, 3), (4, 4), (4, 5), (4, 6), (4, 7), (4, 8), (4, 9), (4, 10), (4, 11), (4, 12), (4, 13), (4, 14), (4, 15), (4, 16), (4, 17), (4, 18), (4, 19), (4, 20), (4, 21), (4, 22), (4, 23), (4, 24), (4, 25), (4, 26), (4, 27), (4, 28), (4, 29), (4, 30), (5, 1), (5, 2), (5, 3), (5, 4), (5, 5), (5, 6), (5, 7), (5, 8), (5, 9), (5, 10), (5, 11), (5, 12), (5, 13), (5, 14), (5, 15), (5, 16), (5, 17), (5, 18), (5, 19), (5, 20), (5, 21), (5, 22), (5, 23), (5, 24), (5, 25), (5, 26), (5, 27), (5, 28), (5, 29), (5, 30), (5, 31), (6, 1), (6, 2), (6, 3), (6, 4), (6, 5), (6, 6), (6, 7), (6, 8), (6, 9), (6, 10), (6, 11), (6, 12), (6, 13), (6, 14), (6, 15), (6, 16), (6, 17), (6, 18), (6, 19), (6, 20), (6, 21), (6, 22), (6, 23), (6, 24), (6, 25), (6, 26), (6, 27), (6, 28), (6, 29), (6, 30), (7, 1), (7, 2), (7, 3), (7, 4), (7, 5), (7, 6), (7, 7), (7, 8), (7, 9), (7, 10), (7, 11), (7, 12), (7, 13), (7, 14), (7, 15), (7, 16), (7, 17), (7, 18), (7, 19), (7, 20), (7, 21), (7, 22), (7, 23), (7, 24), (7, 25), (7, 26), (7, 27), (7, 28), (7, 29), (7, 30), (7, 31), (8, 1), (8, 2), (8, 3), (8, 4), (8, 5), (8, 6), (8, 7), (8, 8), (8, 9), (8, 10), (8, 11), (8, 12), (8, 13), (8, 14), (8, 15), (8, 16), (8, 17), (8, 18), (8, 19), (8, 20), (8, 21), (8, 22), (8, 23), (8, 24), (8, 25), (8, 26), (8, 27), (8, 28), (8, 29), (8, 30), (8, 31), (9, 1), (9, 2), (9, 3), (9, 4), (9, 5), (9, 6), (9, 7), (9, 8), (9, 9), (9, 10), (9, 11), (9, 12), (9, 13), (9, 14), (9, 15), (9, 16), (9, 17), (9, 18), (9, 19), (9, 20), (9, 21), (9, 22), (9, 23), (9, 24), (9, 25), (9, 26), (9, 27), (9, 28), (9, 29), (9, 30), (10, 1), (10, 2), (10, 3), (10, 4), (10, 5), (10, 6), (10, 7), (10, 8), (10, 9), (10, 10), (10, 11), (10, 12), (10, 13), (10, 14), (10, 15), (10, 16), (10, 17), (10, 18), (10, 19), (10, 20), (10, 21), (10, 22), (10, 23), (10, 24), (10, 25), (10, 26), (10, 27), (10, 28), (10, 29), (10, 30), (10, 31), (11, 1), (11, 2), (11, 3), (11, 4), (11, 5), (11, 6), (11, 7), (11, 8), (11, 9), (11, 10), (11, 11), (11, 12), (11, 13), (11, 14), (11, 15), (11, 16), (11, 17), (11, 18), (11, 19), (11, 20), (11, 21), (11, 22), (11, 23), (11, 24), (11, 25), (11, 26), (11, 27), (11, 28), (11, 29), (11, 30), (12, 1), (12, 2), (12, 3), (12, 4), (12, 5), (12, 6), (12, 7), (12, 8), (12, 9), (12, 10), (12, 11), (12, 12), (12, 13), (12, 14), (12, 15), (12, 16), (12, 17), (12, 18), (12, 19), (12, 20), (12, 21), (12, 22), (12, 23), (12, 24), (12, 25), (12, 26), (12, 27), (12, 28), (12, 29), (12, 30), (12, 31)]\n"
     ]
    }
   ],
   "source": [
    "## 개병신같이 푼 케이스\n",
    "M, D = map(int, input().split())\n",
    "\n",
    "# Please write your code here.\n",
    "\n",
    "dateList = []\n",
    "for i in range(1, 13):\n",
    "    for j in range(1, 32):\n",
    "        if (i % 2 == 1 and i <= 8):\n",
    "            dateList.append((i, j))\n",
    "        elif (i == 8 or (i>8 and i%2 == 0)):\n",
    "            dateList.append((i, j))\n",
    "        elif (i == 2):\n",
    "            if (j <= 28):\n",
    "                dateList.append((i, j))\n",
    "            else:\n",
    "                break\n",
    "        else:\n",
    "            if (j < 31):\n",
    "                dateList.append((i, j))\n",
    "            else:\n",
    "                break\n",
    "\n",
    "def isIn2021(a, b):\n",
    "    if ((a, b) in dateList):\n",
    "        print('Yes')\n",
    "    else:\n",
    "        print('No')\n",
    "\n",
    "isIn2021(M, D)\n",
    "print(dateList)"
   ]
  },
  {
   "cell_type": "code",
   "execution_count": null,
   "id": "5b82f368",
   "metadata": {},
   "outputs": [],
   "source": [
    "## 모범 답안\n",
    "# 변수 선언 및 입력\n",
    "m, d = tuple(map(int, input().split()))\n",
    "\n",
    "\n",
    "# 윤년이 아닐 때 m번째 달의 마지막 날을 반환하는 함수를 작성합니다.\n",
    "def last_day_number(m):\n",
    "    if m == 2:\n",
    "        return 28\n",
    "    if m == 4 or m == 6 or m == 9 or m == 11:\n",
    "        return 30\n",
    "    \n",
    "    return 31\n",
    "\n",
    "\n",
    "# 윤년이 아닐 때 m월 d일이 존재하는지 여부를 확인하는 함수를 작성합니다.\n",
    "def judge_day(m, d):\n",
    "    if m <= 12 and d <= last_day_number(m):\n",
    "        return True\n",
    "    \n",
    "    return False\n",
    "\n",
    "    \n",
    "if judge_day(m, d):\n",
    "    print(\"Yes\")\n",
    "else:\n",
    "    print(\"No\")\n"
   ]
  },
  {
   "cell_type": "code",
   "execution_count": null,
   "id": "98e4d83b",
   "metadata": {},
   "outputs": [],
   "source": [
    "## 내 코드\n",
    "Y, M, D = map(int, input().split())\n",
    "\n",
    "# Please write your code here.\n",
    "def isLeapYear(year):\n",
    "    if (year % 4 != 0):\n",
    "        return False\n",
    "    elif (year % 4 == 0 and year % 100 == 0):\n",
    "        return False\n",
    "    elif (year % 4 == 0):\n",
    "        return True\n",
    "    elif (year % 4 == 0 and year % 100 == 0 and year % 400 == 0):\n",
    "        return True\n",
    "    else:\n",
    "        return False\n",
    "\n",
    "def isExist(year, month, day):\n",
    "    if (month in range(1, 8, 2)):\n",
    "        if (day <= 31):\n",
    "            return True\n",
    "    else:\n",
    "        if (month == 2):\n",
    "            if(isLeapYear(year) and day <= 29):\n",
    "                return True\n",
    "            elif (day <= 28):\n",
    "                return True\n",
    "        else:\n",
    "            if (day <= 30):\n",
    "                return True\n",
    "    if (month == 8):\n",
    "        if (day <= 31):\n",
    "            return True\n",
    "    elif (month in range(9, 13)):\n",
    "        if (month % 2 == 0):\n",
    "            if (day <= 31):\n",
    "                return True\n",
    "        else:\n",
    "            if (day <= 30):\n",
    "                return False\n",
    "\n",
    "if (isExist(Y, M, D)):\n",
    "    if (M in range(3, 6)):\n",
    "        print('Spring')\n",
    "    elif (M in range(6, 9)):\n",
    "        print('Summer')\n",
    "    elif (M in range(9, 12)):\n",
    "        print('Fall')\n",
    "    elif (M == 12):\n",
    "        print('Winter')\n",
    "    elif (M in range(1, 3)):\n",
    "        print('Winter')\n",
    "else:\n",
    "    print(-1)"
   ]
  },
  {
   "cell_type": "code",
   "execution_count": null,
   "id": "43e60244",
   "metadata": {},
   "outputs": [],
   "source": [
    "## 답안 코드\n",
    "y, m, d = tuple(map(int, input().split()))\n",
    "\n",
    "\n",
    "def is_leap_year(y):\n",
    "    # 4의 배수가 아니라면 윤년이 확실히 아닙니다.\n",
    "    if y % 4 != 0:\n",
    "        return False\n",
    "    \n",
    "    # 여기까지 온 이상 4의 배수임을 가정해도 됩니다.\n",
    "    # 그 중 100의 배수가 아니라면 확실히 윤년입니다.\n",
    "    if y % 100 != 0:\n",
    "        return True\n",
    "    \n",
    "    # 여기까지 온 이상 100의 배수임을 가정해도 됩니다.\n",
    "    # 그 중 400의 배수라면 확실히 윤년입니다.\n",
    "    if y % 400 == 0:\n",
    "        return True\n",
    "    \n",
    "    # 여기까지 온 이상 100의 배수이지만, 400의 배수가 아닙니다.\n",
    "    # 따라서 확실히 윤년이 아닙니다.\n",
    "    return False\n",
    "\n",
    "\n",
    "def is_exist_day(y, m, d):\n",
    "    #                  1. 2.  3. 4.  5    6.  7.  8.  9. 10. 11  12\n",
    "    num_of_days = [0, 31, 0, 31, 30, 31, 30, 31, 31, 30, 31, 30, 31]\n",
    "\n",
    "    # 윤년에 대한 처리를 진행합니다.\n",
    "    num_of_days[2] = 29 if is_leap_year(y) else 28\n",
    "\n",
    "    # d가 해당 월의 최대 일 수를 넘지 않아야 합니다.\n",
    "    return d <= num_of_days[m]\n",
    "\n",
    "   \n",
    "# y년 m월 d일이 존재하지 않는다면 -1을 출력합니다.\n",
    "if not is_exist_day(y, m, d):\n",
    "    print(-1)\n",
    "else:\n",
    "    # y년 m월 d일이 존재한다면 달에 맞는 계절을 출력합니다.\n",
    "    if 3 <= m and m <= 5:\n",
    "        print(\"Spring\")\n",
    "    elif 6 <= m and m <= 8:\n",
    "        print(\"Summer\")\n",
    "    elif 9 <= m and m <= 11:\n",
    "        print(\"Fall\")\n",
    "    else:\n",
    "        print(\"Winter\")\n"
   ]
  },
  {
   "cell_type": "code",
   "execution_count": null,
   "id": "5beb1b61",
   "metadata": {},
   "outputs": [],
   "source": [
    "# 내 코드\n",
    "n = int(input())\n",
    "arr = list(map(int, input().split()))\n",
    "\n",
    "# Please write your code here.\n",
    "i = 0\n",
    "def showMax(m):\n",
    "    global i\n",
    "    if (len(m) == 1):\n",
    "        return m[0]\n",
    "    if (m[0] < max(m[1 : len(m)])):\n",
    "        return showMax(m[1 : len(m)])\n",
    "    else:\n",
    "        return m[0]\n",
    "\n",
    "print(showMax(arr))"
   ]
  },
  {
   "cell_type": "code",
   "execution_count": null,
   "id": "358298f5",
   "metadata": {},
   "outputs": [],
   "source": [
    "# 답안 코드\n",
    "# 변수 선언 및 입력:\n",
    "n = int(input())\n",
    "arr = list(map(int, input().split()))\n",
    "\n",
    "\n",
    "# a번째 까지 인덱스의 숫자 중에 가장 큰 값을 반환합니다.\n",
    "def max_value(a):\n",
    "    if a == 0:\n",
    "        return arr[0]\n",
    "\n",
    "    return max(max_value(a - 1), arr[a])\n",
    "\n",
    "\n",
    "print(max_value(n - 1))\n"
   ]
  },
  {
   "cell_type": "code",
   "execution_count": 9,
   "id": "62c05b66",
   "metadata": {},
   "outputs": [
    {
     "name": "stdout",
     "output_type": "stream",
     "text": [
      "[1]\n",
      "1 [1, 2, 5]\n",
      "2 [1, 2, 5, 7, 9]\n",
      "5 [1, 2, 4, 5, 6, 7, 9]\n",
      "5 [1, 2, 4, 5, 6, 7, 9, 10, 11]\n",
      "6 "
     ]
    }
   ],
   "source": [
    "n = int(input())\n",
    "arr = list(map(int, input().split()))\n",
    "\n",
    "# Please write your code here.\n",
    "for i in range(len(arr)):\n",
    "    if (i % 2 == 0):\n",
    "        arr[0 : i + 1] = sorted(arr[0 : i + 1])\n",
    "        print(arr[0 : i + 1])\n",
    "        print(arr[(i + 1)//2], end=\" \")\n",
    "# 1 2 4 5 6 7 9 10 11"
   ]
  },
  {
   "cell_type": "code",
   "execution_count": 4,
   "id": "578a7f47",
   "metadata": {},
   "outputs": [
    {
     "name": "stdout",
     "output_type": "stream",
     "text": [
      "(1, 6)\n",
      "(2, 6)\n",
      "(3, 6)\n",
      "(4, 6)\n",
      "(5, 6)\n",
      "1\n",
      "2\n",
      "3\n",
      "4\n",
      "5\n"
     ]
    }
   ],
   "source": [
    "n = int(input())\n",
    "points = [(int(i), tuple(map(int, input().split()))) for i in range(n)]\n",
    "\n",
    "# Please write your code here.\n",
    "class Point:\n",
    "    def __init__(self, idx, x, y):\n",
    "        self.idx = idx\n",
    "        self.x = x\n",
    "        self.y = y\n",
    "    def __str__(self):\n",
    "        return f'{self.idx}'\n",
    "\n",
    "pointObjs = [Point(points[i][0], points[i][1][0], points[i][1][1]) for i in range(n)]\n",
    "for i in range(n):\n",
    "    if (pointObjs[i].x < 0):\n",
    "        pointObjs[i].x = pointObjs[i].x * -1\n",
    "    if (pointObjs[i].y < 0):\n",
    "        pointObjs[i].y = pointObjs[i].y * -1\n",
    "\n",
    "distances = [(pointObjs[i].idx + 1, pointObjs[i].x + pointObjs[i].y) for i in range(n)]\n",
    "for i in range(n):\n",
    "    print(distances[i])\n",
    "distances.sort(key= lambda x: (x[1], x[0]))\n",
    "for i in range(n):\n",
    "    print(f'{distances[i][0]}')"
   ]
  },
  {
   "cell_type": "code",
   "execution_count": null,
   "id": "b9c2fea5",
   "metadata": {},
   "outputs": [
    {
     "name": "stdout",
     "output_type": "stream",
     "text": [
      "4153672"
     ]
    }
   ],
   "source": [
    "n = int(input())\n",
    "sequence = list(map(int, input().split()))\n",
    "\n",
    "# Please write your code here.\n",
    "# 5 7 3 1 2\n",
    "# (0, 5) (1, 7) (2, 3) (3, 1) (4, 2)\n",
    "# (3,1) (4,2) (2,3) (0,5) (1,7)\n",
    "# 1     2       3      4    5   \n",
    "sequences = []\n",
    "for idx, value in enumerate(sequence):\n",
    "    sequences.append((idx, value))\n",
    "\n",
    "sequences.sort(key= lambda x: (x[1], x[0]))\n",
    "\n",
    "answers = []\n",
    "for idx, value in enumerate(sequences):\n",
    "    answers.append((idx + 1, value))\n",
    "\n",
    "answers.sort(key= lambda x: x[1][0])\n",
    "\n",
    "for i in range(n):\n",
    "    print(answers[i][0], end=' ')"
   ]
  }
 ],
 "metadata": {
  "kernelspec": {
   "display_name": "Python 3",
   "language": "python",
   "name": "python3"
  },
  "language_info": {
   "codemirror_mode": {
    "name": "ipython",
    "version": 3
   },
   "file_extension": ".py",
   "mimetype": "text/x-python",
   "name": "python",
   "nbconvert_exporter": "python",
   "pygments_lexer": "ipython3",
   "version": "3.11.9"
  }
 },
 "nbformat": 4,
 "nbformat_minor": 5
}
