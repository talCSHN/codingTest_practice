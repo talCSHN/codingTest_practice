{
 "cells": [
  {
   "cell_type": "code",
   "execution_count": null,
   "id": "aa02653c",
   "metadata": {},
   "outputs": [],
   "source": [
    "n = int(input())\n",
    "arr = list(map(int, input().split()))\n",
    "\n",
    "# Please write your code here.\n",
    "answer = []\n",
    "def divideEven(ary):\n",
    "    for i in ary:\n",
    "        if (i % 2 == 0):\n",
    "            i /= 2\n",
    "            answer.append(i)"
   ]
  },
  {
   "cell_type": "code",
   "execution_count": null,
   "id": "a71731b4",
   "metadata": {},
   "outputs": [
    {
     "name": "stdout",
     "output_type": "stream",
     "text": [
      "cba\n",
      "No\n"
     ]
    }
   ],
   "source": [
    "string = 'abc'\n",
    "new = string[::-1]\n",
    "\n",
    "if string == new:\n",
    "    print('Yes')\n",
    "else:\n",
    "    print('No')"
   ]
  },
  {
   "cell_type": "code",
   "execution_count": 7,
   "id": "3696ab0b",
   "metadata": {},
   "outputs": [
    {
     "name": "stdout",
     "output_type": "stream",
     "text": [
      "200 225\n",
      "200 225\n"
     ]
    }
   ],
   "source": [
    "a, b = map(int, input().split())\n",
    "\n",
    "# Please write your code here.\n",
    "if (a > b):\n",
    "    a += 25\n",
    "    b *= 2\n",
    "    print(a, b)\n",
    "elif (b > a):\n",
    "    a *= 2\n",
    "    b += 25\n",
    "    print(a, b)\n",
    "\n",
    "print(a, b)"
   ]
  },
  {
   "cell_type": "code",
   "execution_count": null,
   "id": "3bc6b365",
   "metadata": {},
   "outputs": [],
   "source": [
    "stack = []\n",
    "A = 'abcde'\n",
    "A."
   ]
  }
 ],
 "metadata": {
  "kernelspec": {
   "display_name": "Python 3",
   "language": "python",
   "name": "python3"
  },
  "language_info": {
   "codemirror_mode": {
    "name": "ipython",
    "version": 3
   },
   "file_extension": ".py",
   "mimetype": "text/x-python",
   "name": "python",
   "nbconvert_exporter": "python",
   "pygments_lexer": "ipython3",
   "version": "3.11.9"
  }
 },
 "nbformat": 4,
 "nbformat_minor": 5
}
